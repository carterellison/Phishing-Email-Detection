{
  "nbformat": 4,
  "nbformat_minor": 0,
  "metadata": {
    "colab": {
      "name": "Random Forest Detect_Phish.ipynb",
      "provenance": [],
      "collapsed_sections": []
    },
    "kernelspec": {
      "name": "python3",
      "display_name": "Python 3"
    },
    "language_info": {
      "name": "python"
    }
  },
  "cells": [
    {
      "cell_type": "markdown",
      "metadata": {
        "id": "i6_VLXSfis5g"
      },
      "source": [
        "This program is based on the kaggle phishing dataset https://www.kaggle.com/shashwatwork/phishing-dataset-for-machine-learning/\n",
        "\n",
        "More information about the dataset can be found at https://arxiv.org/ftp/arxiv/papers/1608/1608.02196.pdf "
      ]
    },
    {
      "cell_type": "code",
      "metadata": {
        "colab": {
          "base_uri": "https://localhost:8080/"
        },
        "id": "P9ZB5u1sVoOk",
        "outputId": "806c3856-e8fb-48f8-ad71-ee5b33778450"
      },
      "source": [
        "!pip install sklearn"
      ],
      "execution_count": null,
      "outputs": [
        {
          "output_type": "stream",
          "text": [
            "Requirement already satisfied: sklearn in /usr/local/lib/python3.7/dist-packages (0.0)\n",
            "Requirement already satisfied: scikit-learn in /usr/local/lib/python3.7/dist-packages (from sklearn) (0.22.2.post1)\n",
            "Requirement already satisfied: scipy>=0.17.0 in /usr/local/lib/python3.7/dist-packages (from scikit-learn->sklearn) (1.4.1)\n",
            "Requirement already satisfied: numpy>=1.11.0 in /usr/local/lib/python3.7/dist-packages (from scikit-learn->sklearn) (1.19.5)\n",
            "Requirement already satisfied: joblib>=0.11 in /usr/local/lib/python3.7/dist-packages (from scikit-learn->sklearn) (1.0.1)\n"
          ],
          "name": "stdout"
        }
      ]
    },
    {
      "cell_type": "code",
      "metadata": {
        "colab": {
          "base_uri": "https://localhost:8080/"
        },
        "id": "KQRG9Q_kicEv",
        "outputId": "e4212e19-75e4-47a2-85b5-085a537c34f1"
      },
      "source": [
        "#Import Dataset\n",
        "import pandas as pd\n",
        "from google.colab import drive\n",
        "import os\n",
        "import csv\n",
        "drive.mount('/content/drive', force_remount=True)\n",
        "import sklearn\n",
        "import numpy as np\n",
        "import tempfile\n",
        "import os\n",
        "from collections import defaultdict\n",
        "\n",
        "file_path = os.path.join(os.getcwd(), \"drive\", \"My Drive\", \"Phishing_Detector\") # replace based on your Google drive organization\n",
        "print(os.listdir(file_path)[:1])\n",
        "\n",
        "def read_txt(fname):\n",
        "  with open(fname) as open_article:\n",
        "    lines = open_article.read()\n",
        "  return lines\n",
        "\n",
        "def read_csv(fname):\n",
        "  return pd.read_csv(fname)\n",
        "article_file = \"Phishing_Legitimate_full.csv\"\n",
        "article_file = os.path.join(file_path, article_file)\n",
        "dataset = read_csv(article_file)\n",
        "\n",
        "\n",
        "\n"
      ],
      "execution_count": 1,
      "outputs": [
        {
          "output_type": "stream",
          "name": "stdout",
          "text": [
            "Mounted at /content/drive\n",
            "['Phishing_Legitimate_full.csv']\n"
          ]
        }
      ]
    },
    {
      "cell_type": "code",
      "metadata": {
        "colab": {
          "base_uri": "https://localhost:8080/",
          "height": 401
        },
        "id": "4IgoWprpKxi6",
        "outputId": "063b6b44-1325-4a00-c6e2-b56826e1708a"
      },
      "source": [
        "# explore random forest tree depth effect on performance\n",
        "from numpy import mean\n",
        "from numpy import std\n",
        "from sklearn.datasets import make_classification\n",
        "from sklearn.model_selection import cross_val_score\n",
        "from sklearn.model_selection import RepeatedStratifiedKFold\n",
        "from sklearn.ensemble import RandomForestClassifier\n",
        "from matplotlib import pyplot\n",
        " \n",
        "\n",
        "from tqdm import tnrange, tqdm_notebook\n",
        "from time import sleep\n",
        "import warnings\n",
        "warnings.filterwarnings('ignore')\n",
        "\n",
        "#Create Logistic Regression Classifier\n",
        "feature_string = \"NumDots\tSubdomainLevel\tPathLevel\tUrlLength\tNumDash\tNumDashInHostname\tAtSymbol\tTildeSymbol\tNumUnderscore\tNumPercent\tNumQueryComponents\tNumAmpersand\tNumHash\tNumNumericChars\tNoHttps\tRandomString\tIpAddress\tDomainInSubdomains\tDomainInPaths\tHttpsInHostname\tHostnameLength\tPathLength\tQueryLength\tDoubleSlashInPath\tNumSensitiveWords\tEmbeddedBrandName\tPctExtHyperlinks\tPctExtResourceUrls\tExtFavicon\tInsecureForms\tRelativeFormAction\tExtFormAction\tAbnormalFormAction\tPctNullSelfRedirectHyperlinks\tFrequentDomainNameMismatch\tFakeLinkInStatusBar\tRightClickDisabled\tPopUpWindow\tSubmitInfoToEmail\tIframeOrFrame\tMissingTitle\tImagesOnlyInForm\tSubdomainLevelRT\tUrlLengthRT\tPctExtResourceUrlsRT\tAbnormalExtFormActionR\tExtMetaScriptLinkRT\tPctExtNullSelfRedirectHyperlinksRT\"\n",
        "f_dic = feature_string.split()\n",
        "#print(f_dic)\n",
        "\n",
        "datax = dataset[f_dic]\n",
        "datay = dataset.CLASS_LABEL\n",
        "\n",
        "# split X and y into training and testing sets\n",
        "from sklearn.model_selection import train_test_split\n",
        "\n",
        "\n",
        "X_train,X_test,y_train,y_test=train_test_split(datax,datay,test_size=0.3,random_state=0)\n",
        "\n",
        "# get the dataset\n",
        "def get_dataset():\n",
        "\tX, y = make_classification(n_samples=1000, n_features=20, n_informative=15, n_redundant=5, random_state=3)\n",
        "\treturn datax, datay\n",
        "  #return X, y\n",
        " \n",
        "# get a list of models to evaluate\n",
        "def get_models():\n",
        "\tmodels = dict()\n",
        "\t# consider tree depths from 1 to 7 and None=full\n",
        "\tdepths = [i for i in range(1,8)] + [None]\n",
        "\tfor n in depths:\n",
        "\t\tmodels[str(n)] = RandomForestClassifier(max_depth=n)\n",
        "\treturn models\n",
        " \n",
        "# evaluate a given model using cross-validation\n",
        "def evaluate_model(model, X, y):\n",
        "\t# define the evaluation procedure\n",
        "\tcv = RepeatedStratifiedKFold(n_splits=10, n_repeats=3, random_state=1)\n",
        "\t# evaluate the model and collect the results\n",
        "\tscores = cross_val_score(model, X, y, scoring='accuracy', cv=cv, n_jobs=-1)\n",
        "\treturn scores\n",
        " \n",
        "# define dataset\n",
        "X, y = get_dataset()\n",
        "# get the models to evaluate\n",
        "models = get_models()\n",
        "# evaluate the models and store results\n",
        "results, names = list(), list()\n",
        "for name, model in models.items():\n",
        "\t# evaluate the model\n",
        "\tscores = evaluate_model(model, X, y)\n",
        "\t# store the results\n",
        "\tresults.append(scores)\n",
        "\tnames.append(name)\n",
        "\t# summarize the performance along the way\n",
        "\tprint('>%s %.3f (%.3f)' % (name, mean(scores), std(scores)))\n",
        "# plot model performance for comparison\n",
        "pyplot.boxplot(results, labels=names, showmeans=True)\n",
        "pyplot.show()"
      ],
      "execution_count": 3,
      "outputs": [
        {
          "output_type": "stream",
          "name": "stdout",
          "text": [
            ">1 0.931 (0.010)\n",
            ">2 0.939 (0.010)\n",
            ">3 0.945 (0.008)\n",
            ">4 0.956 (0.007)\n",
            ">5 0.963 (0.007)\n",
            ">6 0.967 (0.007)\n",
            ">7 0.971 (0.007)\n",
            ">None 0.984 (0.004)\n"
          ]
        },
        {
          "output_type": "display_data",
          "data": {
            "image/png": "[encoded data removed]",
            "text/plain": [
              "<Figure size 432x288 with 1 Axes>"
            ]
          },
          "metadata": {
            "needs_background": "light"
          }
        }
      ]
    }
  ]
}